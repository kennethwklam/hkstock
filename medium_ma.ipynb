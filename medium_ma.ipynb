{
 "cells": [
  {
   "cell_type": "code",
   "execution_count": 1,
   "metadata": {},
   "outputs": [],
   "source": [
    "import matplotlib.pyplot as plt, numpy as np, pandas as pd\n",
    "from datetime import datetime\n",
    "from pandas_datareader import data as web"
   ]
  },
  {
   "cell_type": "code",
   "execution_count": 2,
   "metadata": {},
   "outputs": [],
   "source": [
    "def moving_avg(price, windows=14, method='EMA'):\n",
    "    ma = [np.nan] * (windows - 1)\n",
    "    if method == 'SMA':\n",
    "        for i in range(len(price)+1):\n",
    "            if i < windows:\n",
    "                continue\n",
    "            mean = sum(price[i-windows:i]) / windows\n",
    "            ma.append(mean)\n",
    "    if method == 'EMA':\n",
    "        if len(price) < 2 * windows:\n",
    "            raise ValueError(\"Data is too short\")\n",
    "        alpha = 2.0 / (windows + 1)\n",
    "        mean = sum(price[:windows]) / windows\n",
    "        ma.append(mean)\n",
    "        ma.append((price[windows] - mean) * alpha + mean)\n",
    "        j = windows\n",
    "        for p in price[windows+1:]:\n",
    "            mean = (p - ma[j]) * alpha + ma[j]\n",
    "            j += 1\n",
    "            ma.append(mean)\n",
    "    if method == 'WMA':\n",
    "        weights = np.arange(14, 0, -1)\n",
    "        denominator = (windows * (windows + 1) / 2)\n",
    "        for i in range(len(price)+1):\n",
    "            if i < windows:\n",
    "                continue\n",
    "            mean = np.sum(weights * price[i-windows:i]) / denominator\n",
    "            ma.append(mean)\n",
    "    return ma"
   ]
  },
  {
   "cell_type": "code",
   "execution_count": 3,
   "metadata": {},
   "outputs": [],
   "source": [
    "s, e = datetime(2017, 1, 1), datetime(2017, 12, 31)\n",
    "hk0321 = web.DataReader('0321.HK', 'yahoo', s, e)"
   ]
  },
  {
   "cell_type": "code",
   "execution_count": 4,
   "metadata": {},
   "outputs": [],
   "source": [
    "hk0321 = hk0321.fillna(method='ffill')"
   ]
  },
  {
   "cell_type": "code",
   "execution_count": 5,
   "metadata": {},
   "outputs": [
    {
     "data": {
      "text/plain": [
       "(247, 6)"
      ]
     },
     "execution_count": 5,
     "metadata": {},
     "output_type": "execute_result"
    }
   ],
   "source": [
    "hk0321.shape"
   ]
  },
  {
   "cell_type": "code",
   "execution_count": 6,
   "metadata": {},
   "outputs": [],
   "source": [
    "hk0321['SMA14_diy'] = moving_avg(hk0321['Adj Close'], method='SMA')\n",
    "hk0321['WMA14_diy'] = moving_avg(hk0321['Adj Close'], method='WMA')\n",
    "hk0321['EMA14_diy'] = moving_avg(hk0321['Adj Close'], method='EMA')"
   ]
  },
  {
   "cell_type": "code",
   "execution_count": 7,
   "metadata": {},
   "outputs": [],
   "source": [
    "hk0321['SMA'] = hk0321['Adj Close'].rolling(window=14).mean()\n",
    "hk0321['EMA'] = hk0321['Adj Close'].ewm(com=14).mean()"
   ]
  },
  {
   "cell_type": "code",
   "execution_count": 8,
   "metadata": {},
   "outputs": [
    {
     "data": {
      "text/html": [
       "<div>\n",
       "<style scoped>\n",
       "    .dataframe tbody tr th:only-of-type {\n",
       "        vertical-align: middle;\n",
       "    }\n",
       "\n",
       "    .dataframe tbody tr th {\n",
       "        vertical-align: top;\n",
       "    }\n",
       "\n",
       "    .dataframe thead th {\n",
       "        text-align: right;\n",
       "    }\n",
       "</style>\n",
       "<table border=\"1\" class=\"dataframe\">\n",
       "  <thead>\n",
       "    <tr style=\"text-align: right;\">\n",
       "      <th></th>\n",
       "      <th>Open</th>\n",
       "      <th>High</th>\n",
       "      <th>Low</th>\n",
       "      <th>Close</th>\n",
       "      <th>Adj Close</th>\n",
       "      <th>Volume</th>\n",
       "      <th>SMA14_diy</th>\n",
       "      <th>WMA14_diy</th>\n",
       "      <th>EMA14_diy</th>\n",
       "      <th>SMA</th>\n",
       "      <th>EMA</th>\n",
       "    </tr>\n",
       "    <tr>\n",
       "      <th>Date</th>\n",
       "      <th></th>\n",
       "      <th></th>\n",
       "      <th></th>\n",
       "      <th></th>\n",
       "      <th></th>\n",
       "      <th></th>\n",
       "      <th></th>\n",
       "      <th></th>\n",
       "      <th></th>\n",
       "      <th></th>\n",
       "      <th></th>\n",
       "    </tr>\n",
       "  </thead>\n",
       "  <tbody>\n",
       "    <tr>\n",
       "      <th>2017-01-19</th>\n",
       "      <td>5.10</td>\n",
       "      <td>5.10</td>\n",
       "      <td>5.01</td>\n",
       "      <td>5.01</td>\n",
       "      <td>4.468950</td>\n",
       "      <td>880000.0</td>\n",
       "      <td>NaN</td>\n",
       "      <td>NaN</td>\n",
       "      <td>NaN</td>\n",
       "      <td>NaN</td>\n",
       "      <td>4.488386</td>\n",
       "    </tr>\n",
       "    <tr>\n",
       "      <th>2017-01-20</th>\n",
       "      <td>5.02</td>\n",
       "      <td>5.03</td>\n",
       "      <td>4.99</td>\n",
       "      <td>5.01</td>\n",
       "      <td>4.468950</td>\n",
       "      <td>2163057.0</td>\n",
       "      <td>4.486153</td>\n",
       "      <td>4.484497</td>\n",
       "      <td>4.486153</td>\n",
       "      <td>4.486153</td>\n",
       "      <td>4.486294</td>\n",
       "    </tr>\n",
       "    <tr>\n",
       "      <th>2017-01-23</th>\n",
       "      <td>5.03</td>\n",
       "      <td>5.04</td>\n",
       "      <td>4.97</td>\n",
       "      <td>4.99</td>\n",
       "      <td>4.451110</td>\n",
       "      <td>1206000.0</td>\n",
       "      <td>4.488702</td>\n",
       "      <td>4.494267</td>\n",
       "      <td>4.481481</td>\n",
       "      <td>4.488702</td>\n",
       "      <td>4.482656</td>\n",
       "    </tr>\n",
       "    <tr>\n",
       "      <th>2017-01-24</th>\n",
       "      <td>5.02</td>\n",
       "      <td>5.07</td>\n",
       "      <td>5.00</td>\n",
       "      <td>5.06</td>\n",
       "      <td>4.513551</td>\n",
       "      <td>1262000.0</td>\n",
       "      <td>4.494436</td>\n",
       "      <td>4.502422</td>\n",
       "      <td>4.485757</td>\n",
       "      <td>4.494436</td>\n",
       "      <td>4.485738</td>\n",
       "    </tr>\n",
       "    <tr>\n",
       "      <th>2017-01-25</th>\n",
       "      <td>5.08</td>\n",
       "      <td>5.08</td>\n",
       "      <td>4.97</td>\n",
       "      <td>4.98</td>\n",
       "      <td>4.442190</td>\n",
       "      <td>1438000.0</td>\n",
       "      <td>4.491251</td>\n",
       "      <td>4.503017</td>\n",
       "      <td>4.479948</td>\n",
       "      <td>4.491251</td>\n",
       "      <td>4.481533</td>\n",
       "    </tr>\n",
       "    <tr>\n",
       "      <th>2017-01-26</th>\n",
       "      <td>5.00</td>\n",
       "      <td>5.02</td>\n",
       "      <td>4.95</td>\n",
       "      <td>4.95</td>\n",
       "      <td>4.415430</td>\n",
       "      <td>2695422.0</td>\n",
       "      <td>4.484242</td>\n",
       "      <td>4.499109</td>\n",
       "      <td>4.471346</td>\n",
       "      <td>4.484242</td>\n",
       "      <td>4.475337</td>\n",
       "    </tr>\n",
       "    <tr>\n",
       "      <th>2017-01-27</th>\n",
       "      <td>4.96</td>\n",
       "      <td>5.01</td>\n",
       "      <td>4.96</td>\n",
       "      <td>4.98</td>\n",
       "      <td>4.442190</td>\n",
       "      <td>4699136.0</td>\n",
       "      <td>4.477233</td>\n",
       "      <td>4.490698</td>\n",
       "      <td>4.467458</td>\n",
       "      <td>4.477233</td>\n",
       "      <td>4.472311</td>\n",
       "    </tr>\n",
       "    <tr>\n",
       "      <th>2017-02-01</th>\n",
       "      <td>4.98</td>\n",
       "      <td>5.00</td>\n",
       "      <td>4.95</td>\n",
       "      <td>5.00</td>\n",
       "      <td>4.460031</td>\n",
       "      <td>1498878.0</td>\n",
       "      <td>4.471499</td>\n",
       "      <td>4.481523</td>\n",
       "      <td>4.466468</td>\n",
       "      <td>4.471499</td>\n",
       "      <td>4.471217</td>\n",
       "    </tr>\n",
       "  </tbody>\n",
       "</table>\n",
       "</div>"
      ],
      "text/plain": [
       "            Open  High   Low  Close  Adj Close     Volume  SMA14_diy  \\\n",
       "Date                                                                   \n",
       "2017-01-19  5.10  5.10  5.01   5.01   4.468950   880000.0        NaN   \n",
       "2017-01-20  5.02  5.03  4.99   5.01   4.468950  2163057.0   4.486153   \n",
       "2017-01-23  5.03  5.04  4.97   4.99   4.451110  1206000.0   4.488702   \n",
       "2017-01-24  5.02  5.07  5.00   5.06   4.513551  1262000.0   4.494436   \n",
       "2017-01-25  5.08  5.08  4.97   4.98   4.442190  1438000.0   4.491251   \n",
       "2017-01-26  5.00  5.02  4.95   4.95   4.415430  2695422.0   4.484242   \n",
       "2017-01-27  4.96  5.01  4.96   4.98   4.442190  4699136.0   4.477233   \n",
       "2017-02-01  4.98  5.00  4.95   5.00   4.460031  1498878.0   4.471499   \n",
       "\n",
       "            WMA14_diy  EMA14_diy       SMA       EMA  \n",
       "Date                                                  \n",
       "2017-01-19        NaN        NaN       NaN  4.488386  \n",
       "2017-01-20   4.484497   4.486153  4.486153  4.486294  \n",
       "2017-01-23   4.494267   4.481481  4.488702  4.482656  \n",
       "2017-01-24   4.502422   4.485757  4.494436  4.485738  \n",
       "2017-01-25   4.503017   4.479948  4.491251  4.481533  \n",
       "2017-01-26   4.499109   4.471346  4.484242  4.475337  \n",
       "2017-01-27   4.490698   4.467458  4.477233  4.472311  \n",
       "2017-02-01   4.481523   4.466468  4.471499  4.471217  "
      ]
     },
     "execution_count": 8,
     "metadata": {},
     "output_type": "execute_result"
    }
   ],
   "source": [
    "hk0321[12:20]"
   ]
  },
  {
   "cell_type": "code",
   "execution_count": 9,
   "metadata": {},
   "outputs": [
    {
     "data": {
      "image/png": "[encoded data removed]",
      "text/plain": [
       "<matplotlib.figure.Figure at 0x7f57c31afdd8>"
      ]
     },
     "metadata": {},
     "output_type": "display_data"
    }
   ],
   "source": [
    "hk0321[['SMA14_diy', 'WMA14_diy', 'EMA14_diy', 'SMA', 'EMA']].plot()\n",
    "plt.legend()\n",
    "plt.show()"
   ]
  },
  {
   "cell_type": "code",
   "execution_count": null,
   "metadata": {},
   "outputs": [],
   "source": []
  }
 ],
 "metadata": {
  "kernelspec": {
   "display_name": "Python 3",
   "language": "python",
   "name": "python3"
  },
  "language_info": {
   "codemirror_mode": {
    "name": "ipython",
    "version": 3
   },
   "file_extension": ".py",
   "mimetype": "text/x-python",
   "name": "python",
   "nbconvert_exporter": "python",
   "pygments_lexer": "ipython3",
   "version": "3.5.2"
  }
 },
 "nbformat": 4,
 "nbformat_minor": 2
}